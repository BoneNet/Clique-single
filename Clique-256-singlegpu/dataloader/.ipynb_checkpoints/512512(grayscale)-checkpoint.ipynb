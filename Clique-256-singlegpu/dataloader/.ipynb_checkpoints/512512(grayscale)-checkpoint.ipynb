{
 "cells": [
  {
   "cell_type": "code",
   "execution_count": 8,
   "metadata": {},
   "outputs": [],
   "source": [
    "import numpy as np\n",
    "import os\n",
    "from scipy.io import loadmat\n",
    "from imageio import imread, imsave\n",
    "import pandas as pd\n",
    "import matplotlib._png as png\n",
    "import glob\n",
    "from IPython.core.debugger import set_trace"
   ]
  },
  {
   "cell_type": "markdown",
   "metadata": {},
   "source": [
    "# reshape the pictures to (512, 512)"
   ]
  },
  {
   "cell_type": "code",
   "execution_count": 12,
   "metadata": {},
   "outputs": [
    {
     "name": "stdout",
     "output_type": "stream",
     "text": [
      "loading: MURA-v1.1/train/XR_SHOULDER/patient00537/study1_positive/image1.png 479/13457\n"
     ]
    }
   ],
   "source": [
    "    train_path=\"MURA-v1.1\"\n",
    "    csv_train_filess=os.path.join(train_path,\"train_labeled_studies.csv\")\n",
    "    csv_valid_filess=os.path.join(train_path,\"valid_labeled_studies.csv\")\n",
    "\n",
    "    train_df=pd.read_csv(csv_train_filess, names=['img', 'label'], header=None)\n",
    "    valid_df=pd.read_csv(csv_valid_filess, names=['img', 'label'], header=None)\n",
    "    \n",
    "#     f=\"MURA-v1.1/train/XR_SHOULDER/patient00537/study1_positive/image1.png\"\n",
    "#     print \"loading: %s %d/%d\"%(f, i, len(train_img_paths))\n",
    "#     train_data_patient=[]\n",
    "#     train_img=imread(f)\n",
    "#     #if the image is a 3D image then grayscale the image\n",
    "#     if len(train_img.shape) > 2:\n",
    "#         train_img=train_img[:,:,1]\n",
    "#     l, w=train_img.shape\n",
    "#     train_pad_img=np.pad(train_img, [((512-l)/2, 512/2-l/2),((512-w)/2, 512/2-w/2)], 'constant', constant_values=(0))\n",
    "#     imsave(f, train_pad_img)\n",
    "    train_img_paths=train_df.img.values.tolist()\n",
    "    for i in range(len(train_img_paths)):\n",
    "        patient_dir=train_img_paths[i]\n",
    "        for f in glob.glob(patient_dir + \"*\"):\n",
    "            train_data_patient=[]\n",
    "            train_img=imread(f)\n",
    "            #if the image is a 3D image then grayscale the image\n",
    "            if train_img.shape != (512, 512):\n",
    "                print \"loading: %s %d/%d\"%(f, i, len(train_img_paths))\n",
    "                if len(train_img.shape) > 2:\n",
    "                    train_img=train_img[:,:,1]\n",
    "                l, w=train_img.shape\n",
    "                train_pad_img=np.pad(train_img, [((512-l)/2, 512/2-l/2),((512-w)/2, 512/2-w/2)], 'constant', constant_values=(0))\n",
    "                imsave(f, train_pad_img)\n",
    "    valid_img_paths=valid_df.img.values.tolist()\n",
    "    for i in range(len(valid_img_paths)):\n",
    "        patient_dir=valid_img_paths[i]\n",
    "        for f in glob.glob(patient_dir + \"*\"):\n",
    "            valid_data_patient=[]\n",
    "            valid_img=imread(f)\n",
    "            #if the image is a 3D image then grayscale the image\n",
    "            if train_img.shape != (512, 512):\n",
    "                print \"loading: %s %d/%d\"%(f, i, len(valid_img_paths))\n",
    "                if len(valid_img.shape) > 2:\n",
    "                    valid_img=valid_img[:,:,1]\n",
    "                l, w=valid_img.shape\n",
    "                valid_pad_img=np.pad(valid_img, [((512-l)/2, 512/2-l/2),((512-w)/2, 512/2-w/2)], 'constant', constant_values=(0))\n",
    "                imsave(f, valid_pad_img)"
   ]
  },
  {
   "cell_type": "code",
   "execution_count": null,
   "metadata": {},
   "outputs": [],
   "source": []
  }
 ],
 "metadata": {
  "kernelspec": {
   "display_name": "Python 2",
   "language": "python",
   "name": "python2"
  },
  "language_info": {
   "codemirror_mode": {
    "name": "ipython",
    "version": 2
   },
   "file_extension": ".py",
   "mimetype": "text/x-python",
   "name": "python",
   "nbconvert_exporter": "python",
   "pygments_lexer": "ipython2",
   "version": "2.7.15"
  }
 },
 "nbformat": 4,
 "nbformat_minor": 2
}
