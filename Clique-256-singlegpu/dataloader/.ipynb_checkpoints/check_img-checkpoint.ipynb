{
 "cells": [
  {
   "cell_type": "code",
   "execution_count": 2,
   "metadata": {},
   "outputs": [],
   "source": [
    "import numpy as np\n",
    "import os\n",
    "from scipy.io import loadmat\n",
    "from imageio import imread, imsave\n",
    "import pandas as pd\n",
    "import matplotlib._png as png\n",
    "import glob\n",
    "from IPython.core.debugger import set_trace"
   ]
  },
  {
   "cell_type": "code",
   "execution_count": null,
   "metadata": {},
   "outputs": [],
   "source": [
    "train_path=\"MURA-v1.1\"\n",
    "csv_train_filess=os.path.join(train_path,\"train_labeled_studies.csv\")\n",
    "csv_valid_filess=os.path.join(train_path,\"valid_labeled_studies.csv\")\n",
    "\n",
    "train_df=pd.read_csv(csv_train_filess, names=['img', 'label'], header=None)\n",
    "valid_df=pd.read_csv(csv_valid_filess, names=['img', 'label'], header=None)\n",
    "\n",
    "train_img_paths=train_df.img.values.tolist()\n",
    "for i in range(len(train_img_paths)):\n",
    "    patient_dir=train_img_paths[i]\n",
    "    for f in glob.glob(patient_dir + \"*\"):\n",
    "        str1=\"loading: %s %d/%d\"%(f, i, len(train_img_paths))\n",
    "        print str1\n",
    "        train_data_patient=[]\n",
    "        train_img=imread(f)\n",
    "        if train_img.shape != (512, 512):\n",
    "            print train_img.shape\n",
    "valid_img_paths=valid_df.img.values.tolist()\n",
    "for i in range(len(valid_img_paths)):\n",
    "    patient_dir=valid_img_paths[i]\n",
    "    for f in glob.glob(patient_dir + \"*\"):\n",
    "        str1=\"loading: %s %d/%d\"%(f, i, len(valid_img_paths))\n",
    "        print str1\n",
    "        valid_data_patient=[]\n",
    "        valid_img=imread(f)\n",
    "        if valid_img.shape != (512, 512):\n",
    "            print valid_img.shape"
   ]
  }
 ],
 "metadata": {
  "kernelspec": {
   "display_name": "Python 2",
   "language": "python",
   "name": "python2"
  },
  "language_info": {
   "codemirror_mode": {
    "name": "ipython",
    "version": 2
   },
   "file_extension": ".py",
   "mimetype": "text/x-python",
   "name": "python",
   "nbconvert_exporter": "python",
   "pygments_lexer": "ipython2",
   "version": "2.7.15"
  }
 },
 "nbformat": 4,
 "nbformat_minor": 2
}
